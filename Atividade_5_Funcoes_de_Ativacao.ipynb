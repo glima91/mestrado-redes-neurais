{
  "nbformat": 4,
  "nbformat_minor": 0,
  "metadata": {
    "colab": {
      "name": "Atividade_5_Funcoes_de_Ativacao.ipynb",
      "provenance": [],
      "authorship_tag": "ABX9TyOPqjkZTOJDsm1ZpiN5XTMa",
      "include_colab_link": true
    },
    "kernelspec": {
      "name": "python3",
      "display_name": "Python 3"
    },
    "language_info": {
      "name": "python"
    }
  },
  "cells": [
    {
      "cell_type": "markdown",
      "metadata": {
        "id": "view-in-github",
        "colab_type": "text"
      },
      "source": [
        "<a href=\"https://colab.research.google.com/github/glima91/mestrado-redes-neurais/blob/main/Atividade_5_Funcoes_de_Ativacao.ipynb\" target=\"_parent\"><img src=\"https://colab.research.google.com/assets/colab-badge.svg\" alt=\"Open In Colab\"/></a>"
      ]
    },
    {
      "cell_type": "markdown",
      "source": [
        "# Atividade: Funções para atualização dos pesos na fase backward\n"
      ],
      "metadata": {
        "id": "3qURgKyUX05H"
      }
    },
    {
      "cell_type": "code",
      "execution_count": 1,
      "metadata": {
        "id": "pRWnJ50TZtSz"
      },
      "outputs": [],
      "source": [
        "from abc import ABC, abstractstaticmethod\n",
        "from scipy.special import expit\n",
        "import numpy as np\n",
        "import matplotlib.pyplot as plt\n",
        "from sklearn.datasets import make_blobs\n",
        "from sklearn.model_selection import train_test_split\n",
        "from sklearn.base import BaseEstimator, ClassifierMixin\n",
        "from sklearn.preprocessing import label_binarize"
      ]
    },
    {
      "cell_type": "code",
      "source": [
        "# Criação de classe abstrata para a função de ativação\n",
        "class ActivationFunction(ABC):\n",
        "  @abstractstaticmethod\n",
        "  def forward(a): # a (pós ativacao)\n",
        "    pass\n",
        "\n",
        "  @abstractstaticmethod\n",
        "  def backward(a):\n",
        "    pass\n",
        "  \n",
        "  @abstractstaticmethod\n",
        "  def decision(a):\n",
        "    pass"
      ],
      "metadata": {
        "id": "UngB67XXZtS1"
      },
      "execution_count": 2,
      "outputs": []
    },
    {
      "cell_type": "code",
      "source": [
        "# Criação das funções de ativação Tann, Sigmoid e RELU \n",
        "class Tanh(ActivationFunction):\n",
        "  @staticmethod\n",
        "  def forward(a):\n",
        "    return expit(a) * 2 - 1\n",
        "\n",
        "  @staticmethod\n",
        "  def backward(a): # esse é o gradiente\n",
        "    return (1 - np.square(Tanh.forward(a)))\n",
        "  \n",
        "  @staticmethod\n",
        "  def decision(a):\n",
        "    return (a >= 0) * 2 - 1 # retorna valor entre -1 e 1\n",
        "\n",
        "\n",
        "class Sigmoid(ActivationFunction):\n",
        "  @staticmethod\n",
        "  def forward(a):\n",
        "    return expit(a)\n",
        "  @staticmethod\n",
        "  def backward(a):\n",
        "    return Sigmoid.forward(a) * (1 - Sigmoid.forward(a))\n",
        "  @staticmethod\n",
        "  def decision(a):\n",
        "    return (a >= 0.5) * 2 - 1\n",
        "\n",
        "\n",
        "class Relu(ActivationFunction):\n",
        "  @staticmethod\n",
        "  def forward(a):\n",
        "    return a * (a > 0)\n",
        "  @staticmethod\n",
        "  def backward(a):\n",
        "    return (a > 0).astype(np.int8)\n",
        "  \n",
        "  @staticmethod\n",
        "  def decision(a):\n",
        "    return (a>0) * 2 - 1"
      ],
      "metadata": {
        "id": "kIknyonBZtS2"
      },
      "execution_count": 3,
      "outputs": []
    },
    {
      "cell_type": "code",
      "source": [
        "# Relu test\n",
        "w = np.array([-1,0,1,3,4,5])\n",
        "\n",
        "Relu().decision(w)"
      ],
      "metadata": {
        "colab": {
          "base_uri": "https://localhost:8080/"
        },
        "id": "ZNkMFKgARUcz",
        "outputId": "b462b13b-de02-4feb-eb48-ed3ef7e8e8ee"
      },
      "execution_count": 4,
      "outputs": [
        {
          "output_type": "execute_result",
          "data": {
            "text/plain": [
              "array([-1, -1,  1,  1,  1,  1])"
            ]
          },
          "metadata": {},
          "execution_count": 4
        }
      ]
    },
    {
      "cell_type": "code",
      "source": [
        "def includeBias(X):\n",
        "    bias = np.ones((X.shape[0],1))\n",
        "    Xb = np.concatenate((bias,X),axis=1)\n",
        "    return Xb\n",
        "\n",
        "class Backpropagation():\n",
        "  def __init__(self, n_hidden=[5], activation=Tanh(), regularization=1.0, learning_rate=0.0001, max_iter=1000):\n",
        "    self.n_hidden = n_hidden\n",
        "    self.activation = activation\n",
        "    self.learning_rate = learning_rate\n",
        "    self.max_iter = max_iter\n",
        "    self.regularization = regularization\n",
        "\n",
        "  def forward(self, X):\n",
        "    self.A = []\n",
        "    self.Z = []\n",
        "    A = X.copy()\n",
        "    for i in range(len(self.n_hidden) + 1):\n",
        "      self.A.append(includeBias(A))\n",
        "      self.Z.append(self.A[-1] @ self.Ws[i])\n",
        "      A = self.activation.forward(self.Z[-1])\n",
        "    self.ypred = self.activation.decision(A)\n",
        "    return self.ypred\n",
        "\n",
        "\n",
        "  def predict(self, X):\n",
        "    self.forward(X)\n",
        "    return self.ypred\n",
        "\n",
        "  def backward(self, y):\n",
        "    deltas = [y - self.ypred]\n",
        "    grads = [self.A[-1].T @ deltas[-1]]\n",
        "    \n",
        "    for i in range(len(self.n_hidden), 0, -1):\n",
        "      deltas.insert(0,(deltas[0] @ self.Ws[i][1:,:].T) * self.activation.backward(self.Z[i-1]))\n",
        "      grads.insert(0, self.A[i-1].T @ deltas[0])\n",
        "    \n",
        "    for i in range(len(self.n_hidden),-1,-1):\n",
        "      self.Ws[i] *= 1 - self.regularization * self.learning_rate  \n",
        "      self.Ws[i] += grads[i] * self.learning_rate  \n",
        "\n",
        "\n",
        "  def fit(self, X, y):\n",
        "    self.Ws = []\n",
        "    if len(self.n_hidden)  == 0:\n",
        "      self.Ws.append(np.random.uniform(-1, 1,  size=(X.shape[1] + 1, y.shape[1])))\n",
        "    else:\n",
        "      self.Ws.append(np.random.uniform(-1, 1,  size=(X.shape[1] + 1, self.n_hidden[0])))\n",
        "      for i, _ in enumerate(self.n_hidden):\n",
        "        if i == len(self.n_hidden) - 1:\n",
        "          self.Ws.append(np.random.uniform(-1, 1, size=(self.n_hidden[i] + 1, y.shape[1])))\n",
        "        else:\n",
        "          self.Ws.append(np.random.uniform(-1, 1, size=(self.n_hidden[i] + 1,self.n_hidden[i + 1])))\n",
        "\n",
        "    for _ in range(self.max_iter):\n",
        "      self.forward(X)\n",
        "      self.backward(y)"
      ],
      "metadata": {
        "id": "cQtqQpPQZtS2"
      },
      "execution_count": 5,
      "outputs": []
    },
    {
      "cell_type": "code",
      "source": [
        "class Backpropagation():\n",
        "  def __init__(self,n_hidden=[5], regularization=1.0, activation=Tanh(),learning_rate=0.001,max_iter=1000):\n",
        "    self.n_hidden = n_hidden\n",
        "    self.activation = activation\n",
        "    self.learning_rate = learning_rate\n",
        "    self.max_iter = max_iter\n",
        "    self.regularization = regularization\n",
        "\n",
        "  def foward(self,X):\n",
        "    self.A = []\n",
        "    self.Z = []\n",
        "    A = X.copy()\n",
        "    for i in range(len(self.n_hidden)+1):\n",
        "      self.A.append(includeBias(A))\n",
        "      self.Z.append(self.A[-1] @ self.Ws[i])\n",
        "      A = self.activation.forward(self.Z[-1])\n",
        "    self.ypred = self.activation.decision(A)\n",
        "    return self.ypred\n",
        "\n",
        "  def backward(self, y):\n",
        "    deltas = [y - self.ypred]\n",
        "    grads = [self.A[-1].T @ deltas[-1]]\n",
        "    \n",
        "    for i in range(len(self.n_hidden),0,-1):\n",
        "      deltas.insert(0,(deltas[0] @ self.Ws[i][1:,:].T) * self.activation.backward(self.Z[i-1]))\n",
        "      grads.insert(0,self.A[i-1].T @ deltas[0])\n",
        "    \n",
        "    for i in range(len(self.n_hidden),-1,-1):\n",
        "      #self.Ws[i] *= 1 - self.regularization * self.learning_rate  \n",
        "      self.Ws[i] += grads[i] * self.learning_rate\n",
        "\n",
        "\n",
        "  def fit(self, X, y):\n",
        "    self.Ws = []\n",
        "    \n",
        "    if len(self.n_hidden) == 0:\n",
        "      self.Ws.append(np.random.uniform(-1,1,size=(X.shape[1]+1,y.shape[1])))\n",
        "    else:\n",
        "      self.Ws.append(np.random.uniform(-1,1,size=(X.shape[1]+1,self.n_hidden[0])))\n",
        "      for i,_ in enumerate(self.n_hidden):\n",
        "        if i == len(self.n_hidden)-1:\n",
        "          self.Ws.append(np.random.uniform(-1,1,size=(self.n_hidden[i]+1,y.shape[1])))\n",
        "        else:\n",
        "          self.Ws.append(np.random.uniform(-1,1,size=(self.n_hidden[i]+1,self.n_hidden[i+1])))\n",
        "    \n",
        "    for _ in range(self.max_iter):\n",
        "      self.foward(X)\n",
        "      self.backward(y)\n",
        "\n",
        "\n",
        "  def predict(self, X):\n",
        "      return self.foward(X)"
      ],
      "metadata": {
        "id": "1EXf46AXU2-b"
      },
      "execution_count": 6,
      "outputs": []
    },
    {
      "cell_type": "code",
      "source": [
        "class MLP(BaseEstimator, ClassifierMixin):\n",
        "  def __init__(self,training_algorithm):\n",
        "    # training algorithm\n",
        "    self.training_algorithm = training_algorithm\n",
        "   \n",
        "  def encode_labels(self, y):\n",
        "    self.labels = list(set(y))\n",
        "    return label_binarize(y, classes=self.labels) * 2 -1\n",
        "\n",
        "  def fit(self, X, y):\n",
        "    yhot = self.encode_labels(y)\n",
        "    self.training_algorithm.fit(X, yhot)\n",
        "\n",
        "  def predict(self, X, y=None):\n",
        "    a = self.training_algorithm.predict(X)\n",
        "    if len(self.labels) <=2:\n",
        "      idx = np.array(a > 0, dtype=int).reshape((-1,))\n",
        "    else:\n",
        "      idx = np.argmax(a, axis=1)\n",
        "    ypred = np.array([self.labels[i] for i in idx])\n",
        "    return ypred"
      ],
      "metadata": {
        "id": "buZKLgO_ZtS3"
      },
      "execution_count": 7,
      "outputs": []
    },
    {
      "cell_type": "code",
      "source": [
        "# Cria dataset Blobs\n",
        "def criaDataset(n=1000, n_classes=4):\n",
        "  X, y = make_blobs(n_samples=n, centers=n_classes, center_box=(0,1.0), cluster_std=0.02)\n",
        "  return X, y \n",
        "\n",
        "# Criação do dataset XOR\n",
        "def criaDatasetXor(n=1000):\n",
        "  X, y = make_blobs(n_samples=n, centers=[[0,0], [1,0],[1,1],[0,1]], cluster_std=0.03)\n",
        "  y = np.array(y%2, dtype=int)\n",
        "  return X, y\n",
        "\n",
        "\n",
        "#X, y = criaDatasetXor(n=2000)\n",
        "\n",
        "X, y = criaDataset(n=2000, n_classes=4)\n",
        "\n",
        "Xtr, Xte, ytr, yte = train_test_split(X, y, test_size=.9)"
      ],
      "metadata": {
        "id": "PF4an1yfZtS3"
      },
      "execution_count": 8,
      "outputs": []
    },
    {
      "cell_type": "code",
      "source": [
        "def plotdataset(X,y):\n",
        "  plt.xlabel('X1')\n",
        "  plt.ylabel('X2')\n",
        "  for k in set(y):\n",
        "    plt.plot(X[:,0][y == k],X[:,1][y==k],'o',alpha=0.3)\n",
        "\n",
        "def plothiperplano(X,y,vetor,intercept=0):\n",
        "  X0min = min(X[:,0])\n",
        "  X0max = max(X[:,0])\n",
        "  xs = np.linspace(X0min,X0max,num = 2)\n",
        "  ys = (-vetor[0]/vetor[1]) * xs-intercept/vetor[1]\n",
        "  plt.plot(xs,ys)\n",
        "\n",
        "def define_axes(X):\n",
        "  margin = 0.2\n",
        "  min1,max1 = X[:,0].min(),X[:,0].max()\n",
        "  min2,max2 = X[:,1].min(),X[:,1].max()\n",
        "  return [min1 - margin,max1 + margin,min2 - margin,max2 + margin]\n",
        "\n",
        "\n",
        "def plotPredictions(clf,X):\n",
        "  axes = define_axes(X)\n",
        "  x0s = np.linspace(axes[0],axes[1],100)\n",
        "  x1s = np.linspace(axes[2],axes[3],100)\n",
        "  x0,x1 = np.meshgrid(x0s,x1s)\n",
        "  X = np.c_[x0.ravel(),x1.ravel()]\n",
        "  ypred = clf.predict(X).reshape(x0.shape)\n",
        "  plt.contourf(x0,x1,ypred,cmap=plt.cm.brg,alpha = 0.2)"
      ],
      "metadata": {
        "id": "6htloIB6ZtS4"
      },
      "execution_count": 9,
      "outputs": []
    },
    {
      "cell_type": "code",
      "source": [
        "plotdataset(Xtr, ytr)"
      ],
      "metadata": {
        "colab": {
          "base_uri": "https://localhost:8080/",
          "height": 279
        },
        "outputId": "3342d674-c4c6-499e-b516-2b1ef86efb41",
        "id": "3nLsdfdpZtS5"
      },
      "execution_count": 10,
      "outputs": [
        {
          "output_type": "display_data",
          "data": {
            "text/plain": [
              "<Figure size 432x288 with 1 Axes>"
            ],
            "image/png": "[encoded data removed]"
          },
          "metadata": {
            "needs_background": "light"
          }
        }
      ]
    },
    {
      "cell_type": "code",
      "source": [
        "def train_test_evaluation(activation, regularization, learning_rate, max_iter, n_hidden):\n",
        "  model = MLP(training_algorithm=Backpropagation(activation=activation, regularization=regularization, learning_rate=learning_rate, max_iter=max_iter, n_hidden=n_hidden))\n",
        "  model.fit(Xtr,ytr)\n",
        "  ypred = model.predict(Xtr,ytr)\n",
        "  print(\"Train acc=\", sum(ytr == ypred)/len(ytr))\n",
        "  \n",
        "  ypred = model.predict(Xte,yte)\n",
        "  print(\"Test acc=\",sum(yte== ypred)/len(yte))\n",
        "\n",
        "  plotdataset(Xtr,ytr)\n",
        "  plotPredictions(model,Xte)"
      ],
      "metadata": {
        "id": "U-ad6welZtS5"
      },
      "execution_count": 11,
      "outputs": []
    },
    {
      "cell_type": "code",
      "source": [
        "train_test_evaluation(activation=Tanh(), regularization=0.8, learning_rate=0.0001, max_iter=10000, n_hidden=[5])"
      ],
      "metadata": {
        "colab": {
          "base_uri": "https://localhost:8080/",
          "height": 316
        },
        "outputId": "7a077165-d286-4a69-a1ad-7de9ec97c7db",
        "id": "FEpRyOCUZtS6"
      },
      "execution_count": 12,
      "outputs": [
        {
          "output_type": "stream",
          "name": "stdout",
          "text": [
            "Train acc= 1.0\n",
            "Test acc= 0.99\n"
          ]
        },
        {
          "output_type": "display_data",
          "data": {
            "text/plain": [
              "<Figure size 432x288 with 1 Axes>"
            ],
            "image/png": "[encoded data removed]"
          },
          "metadata": {
            "needs_background": "light"
          }
        }
      ]
    },
    {
      "cell_type": "code",
      "source": [
        "train_test_evaluation(activation=Sigmoid(), regularization=0.9, learning_rate=0.0001, max_iter=10000, n_hidden=[5])"
      ],
      "metadata": {
        "colab": {
          "base_uri": "https://localhost:8080/",
          "height": 316
        },
        "outputId": "896bd79b-4b17-45bf-f5dd-87028112bb7c",
        "id": "g2tZQsp-ZtS6"
      },
      "execution_count": 13,
      "outputs": [
        {
          "output_type": "stream",
          "name": "stdout",
          "text": [
            "Train acc= 1.0\n",
            "Test acc= 0.9966666666666667\n"
          ]
        },
        {
          "output_type": "display_data",
          "data": {
            "text/plain": [
              "<Figure size 432x288 with 1 Axes>"
            ],
            "image/png": "[encoded data removed]"
          },
          "metadata": {
            "needs_background": "light"
          }
        }
      ]
    },
    {
      "cell_type": "code",
      "source": [
        "train_test_evaluation(activation=Relu(), regularization=1., learning_rate=0.0001, max_iter=10000, n_hidden=[16,8])"
      ],
      "metadata": {
        "id": "vTVsTsJrEhho",
        "colab": {
          "base_uri": "https://localhost:8080/",
          "height": 316
        },
        "outputId": "bebcf22e-cedf-4bd2-d029-0cd08d1c24d4"
      },
      "execution_count": 14,
      "outputs": [
        {
          "output_type": "stream",
          "name": "stdout",
          "text": [
            "Train acc= 1.0\n",
            "Test acc= 0.9933333333333333\n"
          ]
        },
        {
          "output_type": "display_data",
          "data": {
            "text/plain": [
              "<Figure size 432x288 with 1 Axes>"
            ],
            "image/png": "[encoded data removed]"
          },
          "metadata": {
            "needs_background": "light"
          }
        }
      ]
    }
  ]
}