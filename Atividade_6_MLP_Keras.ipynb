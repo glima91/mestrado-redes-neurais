{
  "nbformat": 4,
  "nbformat_minor": 0,
  "metadata": {
    "colab": {
      "name": "Atividade_6_MLP_Keras.ipynb",
      "provenance": [],
      "authorship_tag": "ABX9TyMGgynm+3e6+8zJuqWivDGY",
      "include_colab_link": true
    },
    "kernelspec": {
      "name": "python3",
      "display_name": "Python 3"
    },
    "language_info": {
      "name": "python"
    }
  },
  "cells": [
    {
      "cell_type": "markdown",
      "metadata": {
        "id": "view-in-github",
        "colab_type": "text"
      },
      "source": [
        "<a href=\"https://colab.research.google.com/github/glima91/mestrado-redes-neurais/blob/main/Atividade_6_MLP_Keras.ipynb\" target=\"_parent\"><img src=\"https://colab.research.google.com/assets/colab-badge.svg\" alt=\"Open In Colab\"/></a>"
      ]
    },
    {
      "cell_type": "code",
      "source": [
        "from abc import ABC, abstractstaticmethod\n",
        "from scipy.special import expit\n",
        "import numpy as np\n",
        "import matplotlib.pyplot as plt\n",
        "from sklearn.datasets import make_blobs\n",
        "from sklearn.model_selection import train_test_split\n",
        "from sklearn.base import BaseEstimator, ClassifierMixin\n",
        "from sklearn.preprocessing import label_binarize\n",
        "import numpy as np\n",
        "from tensorflow import keras"
      ],
      "metadata": {
        "id": "8NvhipGqCie0"
      },
      "execution_count": 9,
      "outputs": []
    },
    {
      "cell_type": "markdown",
      "source": [
        "## Cria funções de plot"
      ],
      "metadata": {
        "id": "yEmTuZV4D1x8"
      }
    },
    {
      "cell_type": "code",
      "source": [
        "def plotdataset(X,y):\n",
        "  plt.xlabel('X1')\n",
        "  plt.ylabel('X2')\n",
        "  for k in set(y):\n",
        "    plt.plot(X[:,0][y == k],X[:,1][y==k],'o',alpha=0.3)\n",
        "\n",
        "def plothiperplano(X,y,vetor,intercept=0):\n",
        "  X0min = min(X[:,0])\n",
        "  X0max = max(X[:,0])\n",
        "  xs = np.linspace(X0min,X0max,num = 2)\n",
        "  ys = (-vetor[0]/vetor[1]) * xs-intercept/vetor[1]\n",
        "  plt.plot(xs,ys)\n",
        "\n",
        "def define_axes(X):\n",
        "  margin = 0.2\n",
        "  min1,max1 = X[:,0].min(),X[:,0].max()\n",
        "  min2,max2 = X[:,1].min(),X[:,1].max()\n",
        "  return [min1 - margin,max1 + margin,min2 - margin,max2 + margin]\n",
        "\n",
        "\n",
        "def plotPredictions(clf,X):\n",
        "  axes = define_axes(X)\n",
        "  x0s = np.linspace(axes[0],axes[1],100)\n",
        "  x1s = np.linspace(axes[2],axes[3],100)\n",
        "  x0,x1 = np.meshgrid(x0s,x1s)\n",
        "  X = np.c_[x0.ravel(),x1.ravel()]\n",
        "  ypred = clf.predict(X).reshape(x0.shape)\n",
        "  plt.contourf(x0,x1,ypred,cmap=plt.cm.brg,alpha = 0.2)"
      ],
      "metadata": {
        "id": "lLn_CblwDyNa"
      },
      "execution_count": 10,
      "outputs": []
    },
    {
      "cell_type": "markdown",
      "source": [
        "## Cria Dataset"
      ],
      "metadata": {
        "id": "gYk-16kJCXQq"
      }
    },
    {
      "cell_type": "code",
      "source": [
        "# Cria dataset Blobs\n",
        "def criaDatasetBlobs(n=1000, n_classes=4):\n",
        "  X, y = make_blobs(n_samples=n, centers=n_classes, center_box=(0,1.0), cluster_std=0.02)\n",
        "  return X, y \n",
        "\n",
        "# Criação do dataset XOR\n",
        "def criaDatasetXor(n=1000):\n",
        "  X, y = make_blobs(n_samples=n, centers=[[0,0], [1,0],[1,1],[0,1]], cluster_std=0.03)\n",
        "  y = np.array(y%2, dtype=int)\n",
        "  return X, y"
      ],
      "metadata": {
        "id": "ebV4R2pnCalU"
      },
      "execution_count": 11,
      "outputs": []
    },
    {
      "cell_type": "code",
      "source": [
        "X, y = criaDatasetBlobs(n=2000, n_classes=4)\n",
        "\n",
        "Xtr, Xte, ytr, yte = train_test_split(X, y, test_size=.9)"
      ],
      "metadata": {
        "id": "gqTeed0DyMbj"
      },
      "execution_count": 12,
      "outputs": []
    },
    {
      "cell_type": "markdown",
      "source": [
        "## Modelagem"
      ],
      "metadata": {
        "id": "OZ6Nj5h0yfnx"
      }
    },
    {
      "cell_type": "code",
      "source": [
        "class MLP(BaseEstimator, ClassifierMixin):\n",
        "    \"\"\"\n",
        "    Versão do MLP com várias camadas ocultas usando Keras.\n",
        "    \"\"\"\n",
        "    def __init__(self, max_iter=1000, n_hidden=[5], activation='relu'):\n",
        "        self.max_iter = max_iter\n",
        "        self.n_hidden = n_hidden\n",
        "        self.activation = activation\n",
        "\n",
        "    def fit(self, X, y):\n",
        "        self.labels, ids = np.unique(y, return_inverse=True)\n",
        "        yhot = keras.utils.to_categorical(ids)\n",
        "\n",
        "        self.model = keras.models.Sequential()\n",
        "        self.model.add(keras.layers.InputLayer(input_shape=(X.shape[1],)))\n",
        "\n",
        "        for h in self.n_hidden:\n",
        "            self.model.add(keras.layers.Dense(h,activation=self.activation))\n",
        "\n",
        "        self.model.add(keras.layers.Dense(yhot.shape[1],activation='softmax'))\n",
        "\n",
        "        self.model.compile(loss='categorical_crossentropy')\n",
        "        self.model.fit(X, yhot, epochs=self.max_iter, verbose=0)\n",
        "\n",
        "    def predict_proba(self, X, y=None):\n",
        "        return self.model.predict(X)\n",
        "    \n",
        "    def predict(self, X, y=None):\n",
        "        predictions = self.model.predict(X)\n",
        "        return self.labels[np.argmax(predictions,axis=1)]\n",
        "        \n"
      ],
      "metadata": {
        "id": "k1GtNo-yygNr"
      },
      "execution_count": 13,
      "outputs": []
    },
    {
      "cell_type": "code",
      "source": [
        "# Configuração e treinamento do modelo\n",
        "model = MLP(n_hidden=[5,4], activation='relu')\n",
        "model.fit(Xtr, ytr)\n",
        "print(model.model.summary())"
      ],
      "metadata": {
        "colab": {
          "base_uri": "https://localhost:8080/"
        },
        "id": "3wwjNBFzCbC8",
        "outputId": "c781999c-5a67-49c4-ac38-2c856f63ec0f"
      },
      "execution_count": 14,
      "outputs": [
        {
          "output_type": "stream",
          "name": "stdout",
          "text": [
            "Model: \"sequential_1\"\n",
            "_________________________________________________________________\n",
            " Layer (type)                Output Shape              Param #   \n",
            "=================================================================\n",
            " dense_3 (Dense)             (None, 5)                 15        \n",
            "                                                                 \n",
            " dense_4 (Dense)             (None, 4)                 24        \n",
            "                                                                 \n",
            " dense_5 (Dense)             (None, 4)                 20        \n",
            "                                                                 \n",
            "=================================================================\n",
            "Total params: 59\n",
            "Trainable params: 59\n",
            "Non-trainable params: 0\n",
            "_________________________________________________________________\n",
            "None\n"
          ]
        }
      ]
    },
    {
      "cell_type": "code",
      "source": [
        "# Avaliação do modelo e plotagens\n",
        "ypred = model.predict(Xtr,ytr)\n",
        "print(\"Train acc=\", sum(ytr == ypred)/len(ytr))\n",
        "\n",
        "ypred = model.predict(Xte,yte)\n",
        "print(\"Test acc=\",sum(yte== ypred)/len(yte))\n",
        "\n",
        "plotdataset(Xtr,ytr)\n",
        "plotPredictions(model,Xte)"
      ],
      "metadata": {
        "colab": {
          "base_uri": "https://localhost:8080/",
          "height": 314
        },
        "id": "_cAdaCZvDKo4",
        "outputId": "fde55423-a03d-41f6-a2c3-710aeedc1049"
      },
      "execution_count": 15,
      "outputs": [
        {
          "output_type": "stream",
          "name": "stdout",
          "text": [
            "Train acc= 1.0\n",
            "Test acc= 1.0\n"
          ]
        },
        {
          "output_type": "display_data",
          "data": {
            "text/plain": [
              "<Figure size 432x288 with 1 Axes>"
            ],
            "image/png": "[encoded data removed]"
          },
          "metadata": {
            "needs_background": "light"
          }
        }
      ]
    }
  ]
}