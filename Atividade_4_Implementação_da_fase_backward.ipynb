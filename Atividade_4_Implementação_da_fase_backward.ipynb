{
  "nbformat": 4,
  "nbformat_minor": 0,
  "metadata": {
    "colab": {
      "name": "Atividade_4_Implementação da fase backward.ipynb",
      "provenance": [],
      "collapsed_sections": [],
      "authorship_tag": "ABX9TyMdCE6j15hNjsiN0hgT6a4m",
      "include_colab_link": true
    },
    "kernelspec": {
      "name": "python3",
      "display_name": "Python 3"
    },
    "language_info": {
      "name": "python"
    }
  },
  "cells": [
    {
      "cell_type": "markdown",
      "metadata": {
        "id": "view-in-github",
        "colab_type": "text"
      },
      "source": [
        "<a href=\"https://colab.research.google.com/github/glima91/mestrado-redes-neurais/blob/main/Atividade_4_Implementa%C3%A7%C3%A3o_da_fase_backward.ipynb\" target=\"_parent\"><img src=\"https://colab.research.google.com/assets/colab-badge.svg\" alt=\"Open In Colab\"/></a>"
      ]
    },
    {
      "cell_type": "markdown",
      "source": [
        "# Implementação da fase backward\n",
        "\n",
        "Para esta atividade deve ser feita uma base para o problema XOR, que deve ter somente 4 exemplos e não vai ter separação de treino e teste."
      ],
      "metadata": {
        "id": "x1sm4w3aCH2I"
      }
    },
    {
      "cell_type": "code",
      "source": [
        "# Importação de bibliotecas\n",
        "from sklearn.base import BaseEstimator, ClassifierMixin\n",
        "import random\n",
        "import numpy as np\n",
        "import matplotlib.pyplot as plt\n",
        "\n",
        "from abc import ABC, abstractmethod\n",
        "from scipy.special import expit\n",
        "from sklearn.datasets import make_blobs\n",
        "from sklearn.model_selection import train_test_split\n",
        "from sklearn.preprocessing import label_binarize\n",
        "\n",
        "from scipy.special import expit"
      ],
      "metadata": {
        "id": "hTAUFiqACJaZ"
      },
      "execution_count": 44,
      "outputs": []
    },
    {
      "cell_type": "code",
      "source": [
        "# Funções para plotagem\n",
        "def plotDataset(X,y):\n",
        "  plt.xlabel('X1')\n",
        "  plt.ylabel('X2')\n",
        "  for k in set(y):\n",
        "    plt.plot(X[:,0][y == k],X[:,1][y==k],'o',alpha=0.3)\n",
        "\n",
        "def plothiperplano(X,y,vetor,intercept=0):\n",
        "  X0min = min(X[:,0])\n",
        "  X0max = max(X[:,0])\n",
        "  xs = np.linspace(X0min,X0max,num = 2)\n",
        "  ys = (-vetor[0]/vetor[1]) * xs-intercept/vetor[1]\n",
        "  plt.plot(xs,ys)\n",
        "\n",
        "def define_axes(X):\n",
        "  margin = 1.0\n",
        "  min1,max1 = X[:,0].min(),X[:,0].max()\n",
        "  min2,max2 = X[:,1].min(),X[:,1].max()\n",
        "  return [min1 - margin,max1 + margin,min2 - margin,max2 + margin]\n",
        "\n",
        "\n",
        "def plotPredictions(clf,X):\n",
        "  axes = define_axes(X)\n",
        "  x0s = np.linspace(axes[0],axes[1],100)\n",
        "  x1s = np.linspace(axes[2],axes[3],100)\n",
        "  x0,x1 = np.meshgrid(x0s,x1s)\n",
        "  X = np.c_[x0.ravel(),x1.ravel()]\n",
        "  ypred = clf.predict(X).reshape(x0.shape)\n",
        "  plt.contourf(x0,x1,ypred,cmap=plt.cm.brg,alpha = 0.2)"
      ],
      "metadata": {
        "id": "Bm0JCTf-Ca2O"
      },
      "execution_count": 45,
      "outputs": []
    },
    {
      "cell_type": "code",
      "source": [
        "# Criação do dataset XOR\n",
        "def criaDatasetXor(n=1000):\n",
        "  X, y = make_blobs(n_samples=n, centers=[[0,0], [1,0],[1,1],[0,1]], cluster_std=0.1)\n",
        "  y = np.array(y%2, dtype=int)\n",
        "  return X, y"
      ],
      "metadata": {
        "id": "ycKM2qZyCdU8"
      },
      "execution_count": 46,
      "outputs": []
    },
    {
      "cell_type": "code",
      "source": [
        "# Cria dataset com 4 elementos\n",
        "Xtr,ytr = criaDatasetXor(n=4)"
      ],
      "metadata": {
        "id": "AUcOlaM_CnJa"
      },
      "execution_count": 47,
      "outputs": []
    },
    {
      "cell_type": "code",
      "source": [
        "# Plot dos elementos do dataset XOR\n",
        "plotDataset(Xtr, ytr)"
      ],
      "metadata": {
        "colab": {
          "base_uri": "https://localhost:8080/",
          "height": 279
        },
        "id": "Uut8dmodCqtG",
        "outputId": "a11f21c4-c5c6-4127-ad48-7c7621e18ea7"
      },
      "execution_count": 48,
      "outputs": [
        {
          "output_type": "display_data",
          "data": {
            "text/plain": [
              "<Figure size 432x288 with 1 Axes>"
            ],
            "image/png": "[encoded data removed]"
          },
          "metadata": {
            "needs_background": "light"
          }
        }
      ]
    },
    {
      "cell_type": "code",
      "source": [
        "# Implementacao de classes abstratas\n",
        "class TrainingAlgorithm(ABC):\n",
        "  @abstractmethod\n",
        "  def getW(self,X,y):\n",
        "    pass\n",
        "\n",
        "class PseudoInversa(TrainingAlgorithm):\n",
        "  def getW(self, X,y):\n",
        "    print(np.linalg.pinv(X) @ y)\n",
        "    return np.linalg.pinv(X) @ y"
      ],
      "metadata": {
        "id": "Mo-AQNYJETxq"
      },
      "execution_count": 49,
      "outputs": []
    },
    {
      "cell_type": "code",
      "source": [
        "# Implementação do MLP com backpropagation\n",
        "def sign(a):\n",
        "  return (a>=0)*2-1\n",
        "\n",
        "def tanh(a):\n",
        "  return expit(a)*2 -1\n",
        "\n",
        "\n",
        "class Backpropagation():\n",
        "  def __init__(self,n_hidden=2,activation=tanh,learning_rate=0.001,max_iter=10000):\n",
        "    self.n_hidden = n_hidden\n",
        "    self.activation = tanh\n",
        "    self.learning_rate = learning_rate\n",
        "    self.max_iter = max_iter\n",
        "\n",
        "  def forward(self):\n",
        "    Xb = self.Xb\n",
        "    self.pH = Xb @ self.wih # o p significa pre ativacao\n",
        "    self.H = self.activation(self.pH)\n",
        "    self.Hb = includebias(self.H)\n",
        "    self.py = self.Hb @ self.who\n",
        "\n",
        "  def backward(self, y):\n",
        "    ho_delta = y - self.py\n",
        "    ho_grad = self.Hb.T @ ho_delta\n",
        "    # \"PULO DO GATO\" que é a formula do gradiente simplificada\n",
        "    tanh_grad = (1 - np.square(tanh(self.pH)))\n",
        "    ih_delta = (ho_delta @ self.who[1:,:].T) * tanh_grad\n",
        "    #\n",
        "    ih_grad = self.Xb.T @ ih_delta \n",
        "    self.who += ho_grad * self.learning_rate\n",
        "    self.wih += ih_grad * self.learning_rate\n",
        "\n",
        "  def fit(self, X, y):\n",
        "    self.Xb = includebias(X)\n",
        "    self.wih = np.random.uniform(-1, 1,  size=(self.Xb.shape[1], self.n_hidden))\n",
        "    self.who = np.random.uniform(-1, 1, size=(self.n_hidden + 1, y.shape[1]))\n",
        "    for _ in range(self.max_iter):\n",
        "      self.forward()\n",
        "      self.backward(y)\n",
        "\n",
        "  def predict(self, X, g=None):\n",
        "      Xb = includebias(X)\n",
        "      H = self.activation(Xb @ self.wih)\n",
        "      Hb = includebias(H)\n",
        "      return Hb @ self.who\n",
        "\n",
        "\n",
        "def includebias(X):\n",
        "    bias = np.ones((X.shape[0],1))\n",
        "    Xb = np.concatenate((bias,X),axis=1)\n",
        "    return Xb\n",
        "\n",
        "def tanh(a):\n",
        "  return expit(a)*2-1\n",
        "\n",
        "class FixedWeights():\n",
        "  def __init__(self):\n",
        "    self.n_hidden = 2\n",
        "    self.activation = tanh\n",
        "    self.training = PseudoInversa()\n",
        "  \n",
        "  def fit(self, X, y):\n",
        "    self.wih = np.array([[1.75, 0.95, -0.9], [-1.75, 0.85, -0.9]]).T\n",
        "    H = self.activation(includebias(X) @ self.wih)\n",
        "    Hb = includebias(H)\n",
        "    self.who = self.training.getW(Hb,y)\n",
        "\n",
        "  def predict(self, X, g=None):\n",
        "    Xb = includebias(X)\n",
        "    H = self.activation(Xb @ self.wih)\n",
        "    Hb = includebias(H)\n",
        "    return Hb @ self.who\n",
        "\n",
        "\n",
        "class MLP(BaseEstimator, ClassifierMixin):\n",
        "  def __init__(self,training_algorithm=FixedWeights()):\n",
        "    # training algorithm\n",
        "    self.training_algorithm = training_algorithm\n",
        "   \n",
        "  def encode_labels(self, y):\n",
        "    self.labels = list(set(y))\n",
        "    return label_binarize(y, classes=self.labels) * 2 -1\n",
        "\n",
        "  def fit(self, X, y):\n",
        "    yhot = self.encode_labels(y)\n",
        "    self.training_algorithm.fit(X, yhot)\n",
        "\n",
        "  def predict(self, X, y=None):\n",
        "    a = self.training_algorithm.predict(X)\n",
        "    if len(self.labels) <=2:\n",
        "      idx = np.array(a > 0, dtype=int).reshape((-1,))\n",
        "    else:\n",
        "      idx = np.argmax(a, axis=1)\n",
        "    ypred = np.array([self.labels[i] for i in idx])\n",
        "    return ypred"
      ],
      "metadata": {
        "id": "GKXvg1u2C-8U"
      },
      "execution_count": 50,
      "outputs": []
    },
    {
      "cell_type": "code",
      "source": [
        "# Treinamento e avaliação do modelo\n",
        "model = MLP(training_algorithm=Backpropagation(n_hidden=4))\n",
        "model.fit(Xtr,ytr)\n",
        "ypred = model.predict(Xtr,ytr)\n",
        "\n",
        "print(f\"Accuracy:  {sum(ytr == ypred)/len(ytr)}\")"
      ],
      "metadata": {
        "colab": {
          "base_uri": "https://localhost:8080/"
        },
        "id": "C0ZSaLsiDHv5",
        "outputId": "e7e0aab5-2291-482f-ff87-dfdfa2e149e5"
      },
      "execution_count": 51,
      "outputs": [
        {
          "output_type": "stream",
          "name": "stdout",
          "text": [
            "Accuracy:  1.0\n"
          ]
        }
      ]
    },
    {
      "cell_type": "code",
      "source": [
        "# Análise da separação entre as classes\n",
        "plotDataset(Xtr,ytr)\n",
        "plotPredictions(model,Xtr)"
      ],
      "metadata": {
        "colab": {
          "base_uri": "https://localhost:8080/",
          "height": 279
        },
        "id": "YXEVAaPOD5tC",
        "outputId": "037e5845-0170-49bf-8c76-3ab88db440d3"
      },
      "execution_count": 52,
      "outputs": [
        {
          "output_type": "display_data",
          "data": {
            "text/plain": [
              "<Figure size 432x288 with 1 Axes>"
            ],
            "image/png": "[encoded data removed]"
          },
          "metadata": {
            "needs_background": "light"
          }
        }
      ]
    },
    {
      "cell_type": "code",
      "source": [
        ""
      ],
      "metadata": {
        "id": "SowN0jCOXKax"
      },
      "execution_count": 52,
      "outputs": []
    }
  ]
}