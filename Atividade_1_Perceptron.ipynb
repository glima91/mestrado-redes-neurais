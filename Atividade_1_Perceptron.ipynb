{
  "nbformat": 4,
  "nbformat_minor": 0,
  "metadata": {
    "colab": {
      "name": "Atividade-1-Perceptron.ipynb",
      "provenance": [],
      "collapsed_sections": [],
      "authorship_tag": "ABX9TyPmS78Fg3OfzNHyhnspPmjS",
      "include_colab_link": true
    },
    "kernelspec": {
      "name": "python3",
      "display_name": "Python 3"
    },
    "language_info": {
      "name": "python"
    }
  },
  "cells": [
    {
      "cell_type": "markdown",
      "metadata": {
        "id": "view-in-github",
        "colab_type": "text"
      },
      "source": [
        "<a href=\"https://colab.research.google.com/github/glima91/mestrado-redes-neurais/blob/main/Atividade_1_Perceptron.ipynb\" target=\"_parent\"><img src=\"https://colab.research.google.com/assets/colab-badge.svg\" alt=\"Open In Colab\"/></a>"
      ]
    },
    {
      "cell_type": "markdown",
      "source": [
        "# Comparar a redução do custo entre o Perceptron com treinamento online e com o treinamento em batch\n",
        "\n",
        "Faça um Jupyter Notebook com gráficos comparando a redução do custo em duas implementações diferentes do perceptron:\n",
        "\n",
        "1 - com o treinamento online, isto é, o ajustes dos pesos usa o erro de 1 exemplo e cada vez;\n",
        "\n",
        "2 - com o treinamento em batch, quando usa-se todos os exemplos da base de dados simultaneamente para estimar o erro e ajustar os pesos.\n",
        "Escreva um parágrafo explicando as diferenças e o motivo do comportamento de cada implementação.\n",
        "\n",
        "A entrega é um link para o Jupyter Notebook  hospedado no GitHub."
      ],
      "metadata": {
        "id": "kf3Ft8TXuqTi"
      }
    },
    {
      "cell_type": "code",
      "execution_count": 165,
      "metadata": {
        "id": "LhnaLZsFjARX"
      },
      "outputs": [],
      "source": [
        "# Importação de bibliotecas\n",
        "from sklearn.base import BaseEstimator, ClassifierMixin\n",
        "import random\n",
        "import numpy as np\n",
        "import matplotlib.pyplot as plt"
      ]
    },
    {
      "cell_type": "code",
      "source": [
        "# Cria datasets X e y\n",
        "def criaDataset(n=20):\n",
        "  X = np.random.uniform(size=(n, 2))\n",
        "  y = np.array(X[:,0] > X[:,1], dtype=int) * 2 - 1\n",
        "  return X, y"
      ],
      "metadata": {
        "id": "M3NoGXi2nmSO"
      },
      "execution_count": 166,
      "outputs": []
    },
    {
      "cell_type": "code",
      "source": [
        "X_train, y_train = criaDataset(1000)\n",
        "X_test, y_test = criaDataset(2000)"
      ],
      "metadata": {
        "id": "RZ-PnB56yBXZ"
      },
      "execution_count": 167,
      "outputs": []
    },
    {
      "cell_type": "code",
      "source": [
        "print(f\"X_train shape: {X_train.shape}\\ny_train shape: {y_train.shape}\")"
      ],
      "metadata": {
        "colab": {
          "base_uri": "https://localhost:8080/"
        },
        "id": "M6OdllIEBWDS",
        "outputId": "7f316ff1-c0a7-4080-d5a3-97b715100d1e"
      },
      "execution_count": 168,
      "outputs": [
        {
          "output_type": "stream",
          "name": "stdout",
          "text": [
            "X_train shape: (1000, 2)\n",
            "y_train shape: (1000,)\n"
          ]
        }
      ]
    },
    {
      "cell_type": "markdown",
      "source": [
        "## Perceptron com treinamento online"
      ],
      "metadata": {
        "id": "RCQrVD1-wOjT"
      }
    },
    {
      "cell_type": "code",
      "source": [
        "class PerceptronOnline(BaseEstimator, ClassifierMixin):\n",
        "  def __init__(self, max_iter=100):\n",
        "    self.w = None\n",
        "    # Se a < 0 retorna -1 e se a > 0 retorna 1\n",
        "    self.activation = lambda a: (a>0) * 2 - 1\n",
        "    # Núm. máximo de iterações\n",
        "    self.max_iter = max_iter\n",
        "    # Custo em cada iteração\n",
        "    self.cost = []\n",
        "\n",
        "  def fit(self, X, y):\n",
        "    self.w = np.random.uniform(-1,1, size=X.shape[1])\n",
        "    indexes = list(range(X.shape[0]))\n",
        "\n",
        "    self.cost = []\n",
        "\n",
        "    # Realiza n Iterações\n",
        "    for _ in range(self.max_iter):\n",
        "      any_error = False\n",
        "      cost = 0\n",
        "      # Para cada elemento do dataset aplica o modelo, calcula o erro e ajusta o peso w\n",
        "      for i in sorted(indexes, key=lambda k: random.random()):\n",
        "        x = X[i, :]\n",
        "        ypred = self.predict(x)\n",
        "        error = y[i] - ypred\n",
        "        # Cálculo do custo\n",
        "        cost += error ** 2\n",
        "        \n",
        "        if error != 0:\n",
        "          any_error = True\n",
        "        self.w = self.w + error * x\n",
        "\n",
        "      self.cost.append(cost)\n",
        "      if not any_error:\n",
        "        break\n",
        "\n",
        "  def predict(self, X, y=None):\n",
        "    a =  X @ self.w\n",
        "    ypred = self.activation(a)\n",
        "    return ypred   "
      ],
      "metadata": {
        "id": "jyeDwWMDkRWd"
      },
      "execution_count": 169,
      "outputs": []
    },
    {
      "cell_type": "code",
      "source": [
        "perceptron_online = PerceptronOnline()\n",
        "perceptron_online.fit(X_train, y_train)\n",
        "ypred = perceptron_online.predict(X_train)"
      ],
      "metadata": {
        "id": "Krl7qYrkmarg"
      },
      "execution_count": 170,
      "outputs": []
    },
    {
      "cell_type": "code",
      "source": [
        "cost_online = perceptron_online.cost\n",
        "x_l = list(range(1, len(cost_online)+1))"
      ],
      "metadata": {
        "id": "Ms3VKJ4Im2W7"
      },
      "execution_count": 171,
      "outputs": []
    },
    {
      "cell_type": "code",
      "source": [
        "plt.plot(x_l, cost_online,\"-o\")\n",
        "plt.xticks(x_l)\n",
        "plt.title(\"Perceptron com treinamento online\")\n",
        "plt.xlabel('Num. da Iteração')\n",
        "plt.ylabel('Custo')\n",
        "plt.show()"
      ],
      "metadata": {
        "colab": {
          "base_uri": "https://localhost:8080/",
          "height": 295
        },
        "id": "5EV-nazxn8-m",
        "outputId": "2eaa06bc-ca83-4632-ea5a-f49458181f4f"
      },
      "execution_count": 172,
      "outputs": [
        {
          "output_type": "display_data",
          "data": {
            "text/plain": [
              "<Figure size 432x288 with 1 Axes>"
            ],
            "image/png": "[encoded data removed]"
          },
          "metadata": {
            "needs_background": "light"
          }
        }
      ]
    },
    {
      "cell_type": "code",
      "source": [
        "# Avaliacao da acurácia com os dados de teste\n",
        "ypred = perceptron_online.predict(X_test)\n",
        "sum(y_test == ypred)/len(y_test)"
      ],
      "metadata": {
        "colab": {
          "base_uri": "https://localhost:8080/"
        },
        "id": "Dav40F9odpmd",
        "outputId": "ca87fb7c-07fe-437b-a33d-1e54b2a05a54"
      },
      "execution_count": 173,
      "outputs": [
        {
          "output_type": "execute_result",
          "data": {
            "text/plain": [
              "1.0"
            ]
          },
          "metadata": {},
          "execution_count": 173
        }
      ]
    },
    {
      "cell_type": "markdown",
      "source": [
        "## Perceptron com batch"
      ],
      "metadata": {
        "id": "tsL5YG7K2Hbr"
      }
    },
    {
      "cell_type": "code",
      "source": [
        "class PerceptronBatch(BaseEstimator, ClassifierMixin):\n",
        "  def __init__(self, max_iter=100):\n",
        "    self.w = None\n",
        "    # Se a < 0 retorna -1 e se a > 0 retorna 1\n",
        "    self.activation = lambda a: (a>0) * 2 - 1\n",
        "    # Núm. máximo de iterações\n",
        "    self.max_iter = max_iter\n",
        "    # Erro em cada iteração\n",
        "    self.cost = []\n",
        "\n",
        "  def fit(self, X, y):\n",
        "    self.w = np.random.uniform(-1,1, size=X.shape[1])\n",
        "    indexes = list(range(X.shape[0]))\n",
        "\n",
        "    self.cost = []\n",
        "\n",
        "    # Realiza n Iterações\n",
        "    for _ in range(self.max_iter):\n",
        "      # Para todo o dataset aplica o modelo, calcula o erro e ajusta o peso w\n",
        "      ypred = self.predict(X)\n",
        "      errors = y - ypred\n",
        "      # Cálculo do custo\n",
        "      cost = sum(errors ** 2)\n",
        "\n",
        "      self.cost.append(cost)\n",
        "\n",
        "      if cost == 0:\n",
        "        break\n",
        "      self.w += X.T @ errors\n",
        "      \n",
        "    \n",
        "\n",
        "  def predict(self, X, y=None):\n",
        "    a =  X @ self.w\n",
        "    ypred = self.activation(a)\n",
        "    return ypred   "
      ],
      "metadata": {
        "id": "oH1n-urqznRE"
      },
      "execution_count": 174,
      "outputs": []
    },
    {
      "cell_type": "code",
      "source": [
        "perceptron_batch = PerceptronBatch()\n",
        "perceptron_batch.fit(X_train, y_train)\n",
        "ypred = perceptron_batch.predict(X_train)"
      ],
      "metadata": {
        "id": "vk0oEAMJ5gn3"
      },
      "execution_count": 175,
      "outputs": []
    },
    {
      "cell_type": "code",
      "source": [
        "cost_batch = perceptron_batch.cost\n",
        "x_l = list(range(1, len(cost_batch)+1))"
      ],
      "metadata": {
        "id": "fn5gMvYb5oNA"
      },
      "execution_count": 176,
      "outputs": []
    },
    {
      "cell_type": "code",
      "source": [
        "plt.figure(figsize=(25,5))\n",
        "plt.plot(x_l, cost_batch,\"-\")\n",
        "#plt.xticks(x_l)\n",
        "plt.title(\"Perceptron com treinamento em batch\")\n",
        "plt.xlabel('Num. da Iteração')\n",
        "plt.ylabel('Custo')\n",
        "plt.show()"
      ],
      "metadata": {
        "colab": {
          "base_uri": "https://localhost:8080/",
          "height": 350
        },
        "id": "0wJZRb3152F7",
        "outputId": "b781d2c5-2fc2-462d-a397-b27a25286d9c"
      },
      "execution_count": 177,
      "outputs": [
        {
          "output_type": "display_data",
          "data": {
            "text/plain": [
              "<Figure size 1800x360 with 1 Axes>"
            ],
            "image/png": "[encoded data removed]"
          },
          "metadata": {
            "needs_background": "light"
          }
        }
      ]
    },
    {
      "cell_type": "code",
      "source": [
        "# Avaliacao da acurácia com os dados de teste\n",
        "ypred = perceptron_online.predict(X_test)\n",
        "sum(y_test == ypred)/len(y_test)"
      ],
      "metadata": {
        "id": "dxlVWh6u8BHJ",
        "colab": {
          "base_uri": "https://localhost:8080/"
        },
        "outputId": "c50413de-f6d0-4557-cac4-694bccb15337"
      },
      "execution_count": 178,
      "outputs": [
        {
          "output_type": "execute_result",
          "data": {
            "text/plain": [
              "1.0"
            ]
          },
          "metadata": {},
          "execution_count": 178
        }
      ]
    },
    {
      "cell_type": "markdown",
      "source": [
        "O treinamento online permite que os valores dos pesos \"W\" sejam atualizados para cada uma das observações, ou seja, sempre que uma observação é analisada é gerado um erro, que é utilizado para atualizar os pesos. Dependendo da distribuição dos dados, este ajuste frequente no peso pode causar oscilações no valor da função de custo caso um conjunto de dados possua outliers, por exemplo.\n",
        "\n",
        "Já o treinamento em batch, permite \"suavizar\" os valores da função de custo pois os valores de erro de várias observações são utilizados no cálculo. Realizar o ajuste de pesos a partir de todo o conjunto de dados pode se tornar um problema quando são utilizadas grandes bases de dados. Uma solução adotada é o uso de mini-batchs, ou seja, subconjuntos de dados de um dataset."
      ],
      "metadata": {
        "id": "dpqqIkYilA81"
      }
    },
    {
      "cell_type": "code",
      "source": [
        ""
      ],
      "metadata": {
        "id": "kNnQnBA0lBho"
      },
      "execution_count": null,
      "outputs": []
    }
  ]
}